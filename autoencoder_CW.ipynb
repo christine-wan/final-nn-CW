{
  "nbformat": 4,
  "nbformat_minor": 0,
  "metadata": {
    "colab": {
      "provenance": []
    },
    "kernelspec": {
      "name": "python3",
      "display_name": "Python 3"
    },
    "language_info": {
      "name": "python"
    }
  },
  "cells": [
    {
      "cell_type": "markdown",
      "source": [
        "# **Background**\n",
        "\n",
        "An autoencoder is a neural network that takes an input, encodes it into a lower-dimensional latent space through \"encoding\" layers, and then attempts to reconstruct the original input using \"decoding\" layers. Autoencoders are often used for dimensionality reduction.\n",
        "\n",
        "# **Task:**\n",
        "\n",
        "Train a 64x16x64 autoencoder on the digits dataset.\n",
        "\n"
      ],
      "metadata": {
        "id": "STP4ommpjqPZ"
      }
    },
    {
      "cell_type": "code",
      "execution_count": 15,
      "metadata": {
        "colab": {
          "base_uri": "https://localhost:8080/",
          "height": 74
        },
        "id": "HVAadAdxq3hU",
        "outputId": "5b9f2425-a627-4d68-e44f-4041f4dad829"
      },
      "outputs": [
        {
          "output_type": "display_data",
          "data": {
            "text/plain": [
              "<IPython.core.display.HTML object>"
            ],
            "text/html": [
              "\n",
              "     <input type=\"file\" id=\"files-c46f428d-462c-4882-9706-eb59bf57f7fe\" name=\"files[]\" multiple disabled\n",
              "        style=\"border:none\" />\n",
              "     <output id=\"result-c46f428d-462c-4882-9706-eb59bf57f7fe\">\n",
              "      Upload widget is only available when the cell has been executed in the\n",
              "      current browser session. Please rerun this cell to enable.\n",
              "      </output>\n",
              "      <script>// Copyright 2017 Google LLC\n",
              "//\n",
              "// Licensed under the Apache License, Version 2.0 (the \"License\");\n",
              "// you may not use this file except in compliance with the License.\n",
              "// You may obtain a copy of the License at\n",
              "//\n",
              "//      http://www.apache.org/licenses/LICENSE-2.0\n",
              "//\n",
              "// Unless required by applicable law or agreed to in writing, software\n",
              "// distributed under the License is distributed on an \"AS IS\" BASIS,\n",
              "// WITHOUT WARRANTIES OR CONDITIONS OF ANY KIND, either express or implied.\n",
              "// See the License for the specific language governing permissions and\n",
              "// limitations under the License.\n",
              "\n",
              "/**\n",
              " * @fileoverview Helpers for google.colab Python module.\n",
              " */\n",
              "(function(scope) {\n",
              "function span(text, styleAttributes = {}) {\n",
              "  const element = document.createElement('span');\n",
              "  element.textContent = text;\n",
              "  for (const key of Object.keys(styleAttributes)) {\n",
              "    element.style[key] = styleAttributes[key];\n",
              "  }\n",
              "  return element;\n",
              "}\n",
              "\n",
              "// Max number of bytes which will be uploaded at a time.\n",
              "const MAX_PAYLOAD_SIZE = 100 * 1024;\n",
              "\n",
              "function _uploadFiles(inputId, outputId) {\n",
              "  const steps = uploadFilesStep(inputId, outputId);\n",
              "  const outputElement = document.getElementById(outputId);\n",
              "  // Cache steps on the outputElement to make it available for the next call\n",
              "  // to uploadFilesContinue from Python.\n",
              "  outputElement.steps = steps;\n",
              "\n",
              "  return _uploadFilesContinue(outputId);\n",
              "}\n",
              "\n",
              "// This is roughly an async generator (not supported in the browser yet),\n",
              "// where there are multiple asynchronous steps and the Python side is going\n",
              "// to poll for completion of each step.\n",
              "// This uses a Promise to block the python side on completion of each step,\n",
              "// then passes the result of the previous step as the input to the next step.\n",
              "function _uploadFilesContinue(outputId) {\n",
              "  const outputElement = document.getElementById(outputId);\n",
              "  const steps = outputElement.steps;\n",
              "\n",
              "  const next = steps.next(outputElement.lastPromiseValue);\n",
              "  return Promise.resolve(next.value.promise).then((value) => {\n",
              "    // Cache the last promise value to make it available to the next\n",
              "    // step of the generator.\n",
              "    outputElement.lastPromiseValue = value;\n",
              "    return next.value.response;\n",
              "  });\n",
              "}\n",
              "\n",
              "/**\n",
              " * Generator function which is called between each async step of the upload\n",
              " * process.\n",
              " * @param {string} inputId Element ID of the input file picker element.\n",
              " * @param {string} outputId Element ID of the output display.\n",
              " * @return {!Iterable<!Object>} Iterable of next steps.\n",
              " */\n",
              "function* uploadFilesStep(inputId, outputId) {\n",
              "  const inputElement = document.getElementById(inputId);\n",
              "  inputElement.disabled = false;\n",
              "\n",
              "  const outputElement = document.getElementById(outputId);\n",
              "  outputElement.innerHTML = '';\n",
              "\n",
              "  const pickedPromise = new Promise((resolve) => {\n",
              "    inputElement.addEventListener('change', (e) => {\n",
              "      resolve(e.target.files);\n",
              "    });\n",
              "  });\n",
              "\n",
              "  const cancel = document.createElement('button');\n",
              "  inputElement.parentElement.appendChild(cancel);\n",
              "  cancel.textContent = 'Cancel upload';\n",
              "  const cancelPromise = new Promise((resolve) => {\n",
              "    cancel.onclick = () => {\n",
              "      resolve(null);\n",
              "    };\n",
              "  });\n",
              "\n",
              "  // Wait for the user to pick the files.\n",
              "  const files = yield {\n",
              "    promise: Promise.race([pickedPromise, cancelPromise]),\n",
              "    response: {\n",
              "      action: 'starting',\n",
              "    }\n",
              "  };\n",
              "\n",
              "  cancel.remove();\n",
              "\n",
              "  // Disable the input element since further picks are not allowed.\n",
              "  inputElement.disabled = true;\n",
              "\n",
              "  if (!files) {\n",
              "    return {\n",
              "      response: {\n",
              "        action: 'complete',\n",
              "      }\n",
              "    };\n",
              "  }\n",
              "\n",
              "  for (const file of files) {\n",
              "    const li = document.createElement('li');\n",
              "    li.append(span(file.name, {fontWeight: 'bold'}));\n",
              "    li.append(span(\n",
              "        `(${file.type || 'n/a'}) - ${file.size} bytes, ` +\n",
              "        `last modified: ${\n",
              "            file.lastModifiedDate ? file.lastModifiedDate.toLocaleDateString() :\n",
              "                                    'n/a'} - `));\n",
              "    const percent = span('0% done');\n",
              "    li.appendChild(percent);\n",
              "\n",
              "    outputElement.appendChild(li);\n",
              "\n",
              "    const fileDataPromise = new Promise((resolve) => {\n",
              "      const reader = new FileReader();\n",
              "      reader.onload = (e) => {\n",
              "        resolve(e.target.result);\n",
              "      };\n",
              "      reader.readAsArrayBuffer(file);\n",
              "    });\n",
              "    // Wait for the data to be ready.\n",
              "    let fileData = yield {\n",
              "      promise: fileDataPromise,\n",
              "      response: {\n",
              "        action: 'continue',\n",
              "      }\n",
              "    };\n",
              "\n",
              "    // Use a chunked sending to avoid message size limits. See b/62115660.\n",
              "    let position = 0;\n",
              "    do {\n",
              "      const length = Math.min(fileData.byteLength - position, MAX_PAYLOAD_SIZE);\n",
              "      const chunk = new Uint8Array(fileData, position, length);\n",
              "      position += length;\n",
              "\n",
              "      const base64 = btoa(String.fromCharCode.apply(null, chunk));\n",
              "      yield {\n",
              "        response: {\n",
              "          action: 'append',\n",
              "          file: file.name,\n",
              "          data: base64,\n",
              "        },\n",
              "      };\n",
              "\n",
              "      let percentDone = fileData.byteLength === 0 ?\n",
              "          100 :\n",
              "          Math.round((position / fileData.byteLength) * 100);\n",
              "      percent.textContent = `${percentDone}% done`;\n",
              "\n",
              "    } while (position < fileData.byteLength);\n",
              "  }\n",
              "\n",
              "  // All done.\n",
              "  yield {\n",
              "    response: {\n",
              "      action: 'complete',\n",
              "    }\n",
              "  };\n",
              "}\n",
              "\n",
              "scope.google = scope.google || {};\n",
              "scope.google.colab = scope.google.colab || {};\n",
              "scope.google.colab._files = {\n",
              "  _uploadFiles,\n",
              "  _uploadFilesContinue,\n",
              "};\n",
              "})(self);\n",
              "</script> "
            ]
          },
          "metadata": {}
        },
        {
          "output_type": "stream",
          "name": "stdout",
          "text": [
            "Saving nn.py to nn.py\n"
          ]
        }
      ],
      "source": [
        "# uploading nn.py\n",
        "\n",
        "from google.colab import files\n",
        "uploaded = files.upload()"
      ]
    },
    {
      "cell_type": "code",
      "source": [
        "# imports\n",
        "\n",
        "from sklearn.datasets import load_digits\n",
        "import numpy as np\n",
        "import matplotlib.pyplot as plt\n",
        "from nn import NeuralNetwork"
      ],
      "metadata": {
        "id": "YB90mUPSpVTt",
        "collapsed": true
      },
      "execution_count": 16,
      "outputs": []
    },
    {
      "cell_type": "markdown",
      "source": [
        "# Loading digits datasets using `sklearn.datasets.load_digits()`"
      ],
      "metadata": {
        "id": "UUlVf7NljpRH"
      }
    },
    {
      "cell_type": "code",
      "source": [
        "digits = load_digits()\n",
        "\n",
        "X = digits.data\n",
        "y = digits.target"
      ],
      "metadata": {
        "id": "z9h6nRR1jc0j"
      },
      "execution_count": 17,
      "outputs": []
    },
    {
      "cell_type": "markdown",
      "source": [
        "# Split data into training and validation"
      ],
      "metadata": {
        "id": "1picdx4-kPjI"
      }
    },
    {
      "cell_type": "code",
      "source": [
        "n_samples = len(digits.images)\n",
        "data = digits.images.reshape((n_samples, -1))\n",
        "np.random.seed(888)\n",
        "\n",
        "indices = np.arange(n_samples)\n",
        "np.random.shuffle(indices)\n",
        "\n",
        "train_size = int(0.8 * n_samples)\n",
        "X_train, X_test = data[indices[:train_size]], data[indices[train_size:]]\n",
        "y_train, y_test = digits.target[indices[:train_size]], digits.target[indices[train_size:]]"
      ],
      "metadata": {
        "id": "rkvODtFcjlBQ"
      },
      "execution_count": 23,
      "outputs": []
    },
    {
      "cell_type": "markdown",
      "source": [
        "# Generate instance of `NeuralNetwork` class\n"
      ],
      "metadata": {
        "id": "A_puPJN2kSxD"
      }
    },
    {
      "cell_type": "code",
      "source": [
        "nn_architecture = [\n",
        "    {'input_dim': 64, 'output_dim': 16, 'activation': 'relu'},  # Input -> Hidden layer (64 -> 16)\n",
        "    {'input_dim': 16, 'output_dim': 64, 'activation': 'sigmoid'}  # Hidden -> Output layer (16 -> 64)\n",
        "]\n",
        "\n",
        "learning_rate = 1e-5\n",
        "random_seed = 8\n",
        "batch_size = 1000\n",
        "epochs = 4000\n",
        "loss_function = 'mean_squared_error'\n",
        "\n",
        "network = NeuralNetwork(nn_architecture, learning_rate, random_seed, batch_size, epochs, loss_function)"
      ],
      "metadata": {
        "id": "otv_CAw3xAYZ"
      },
      "execution_count": 63,
      "outputs": []
    },
    {
      "cell_type": "code",
      "source": [
        "# Visualizing a digit\n",
        "plt.imshow(X_train[0].reshape(8, 8), cmap=\"gray\")\n",
        "plt.show()\n",
        "print(X_train[0].reshape(8, 8))"
      ],
      "metadata": {
        "colab": {
          "base_uri": "https://localhost:8080/",
          "height": 573
        },
        "id": "G6VrfJY2rN7o",
        "outputId": "bf9ac3dc-c30f-497e-aeff-d42b301bc2e2"
      },
      "execution_count": 20,
      "outputs": [
        {
          "output_type": "display_data",
          "data": {
            "text/plain": [
              "<Figure size 640x480 with 1 Axes>"
            ],
            "image/png": "[encoded data removed]"
          },
          "metadata": {}
        },
        {
          "output_type": "stream",
          "name": "stdout",
          "text": [
            "[[ 0.  4. 15. 16. 13.  1.  0.  0.]\n",
            " [ 0.  9. 14. 10. 16.  6.  0.  0.]\n",
            " [ 0.  1.  1.  6. 16.  2.  0.  0.]\n",
            " [ 0.  0.  0.  8. 14.  1.  0.  0.]\n",
            " [ 0.  0.  5. 16.  5.  0.  0.  0.]\n",
            " [ 0.  0. 13. 14.  0.  0.  0.  0.]\n",
            " [ 0.  5. 16.  9.  8.  8. 10.  0.]\n",
            " [ 0.  4. 15. 16. 16. 16.  9.  0.]]\n"
          ]
        }
      ]
    },
    {
      "cell_type": "code",
      "source": [
        "# Shapes of inputs and labels\n",
        "print(\"Shape of training inputs is:\", X_train.shape)\n",
        "print(\"Shape of training set labels is:\", y_train.shape)\n",
        "\n",
        "print(\"Shape of test inputs is:\", X_test.shape)\n",
        "print(\"Shape of test set labels is:\", y_test.shape)"
      ],
      "metadata": {
        "colab": {
          "base_uri": "https://localhost:8080/"
        },
        "id": "9EV-f4d1rSQD",
        "outputId": "f17966c2-35f4-4028-c80b-948e8d61a76b"
      },
      "execution_count": 21,
      "outputs": [
        {
          "output_type": "stream",
          "name": "stdout",
          "text": [
            "Shape of training inputs is: (1437, 64)\n",
            "Shape of training set labels is: (1437,)\n",
            "Shape of test inputs is: (360, 64)\n",
            "Shape of test set labels is: (360,)\n"
          ]
        }
      ]
    },
    {
      "cell_type": "markdown",
      "source": [
        "# Train your autoencoder on the training data"
      ],
      "metadata": {
        "id": "KdqjdSuulAp-"
      }
    },
    {
      "cell_type": "code",
      "source": [
        "# Train the autoencoder and capture the losses\n",
        "per_epoch_loss_train, per_epoch_loss_val = network.fit(X_train, X_train, X_test, X_test)"
      ],
      "metadata": {
        "colab": {
          "base_uri": "https://localhost:8080/"
        },
        "id": "PSWgePjNz5jr",
        "outputId": "31a5492a-e9a0-45eb-e841-fd2a344ccdf9"
      },
      "execution_count": 64,
      "outputs": [
        {
          "output_type": "stream",
          "name": "stdout",
          "text": [
            "epoch 0 out of 4000\n",
            "epoch 100 out of 4000\n",
            "epoch 200 out of 4000\n",
            "epoch 300 out of 4000\n",
            "epoch 400 out of 4000\n",
            "epoch 500 out of 4000\n",
            "epoch 600 out of 4000\n",
            "epoch 700 out of 4000\n",
            "epoch 800 out of 4000\n",
            "epoch 900 out of 4000\n",
            "epoch 1000 out of 4000\n",
            "epoch 1100 out of 4000\n",
            "epoch 1200 out of 4000\n",
            "epoch 1300 out of 4000\n",
            "epoch 1400 out of 4000\n",
            "epoch 1500 out of 4000\n",
            "epoch 1600 out of 4000\n",
            "epoch 1700 out of 4000\n",
            "epoch 1800 out of 4000\n",
            "epoch 1900 out of 4000\n",
            "epoch 2000 out of 4000\n",
            "epoch 2100 out of 4000\n",
            "epoch 2200 out of 4000\n",
            "epoch 2300 out of 4000\n",
            "epoch 2400 out of 4000\n",
            "epoch 2500 out of 4000\n",
            "epoch 2600 out of 4000\n",
            "epoch 2700 out of 4000\n",
            "epoch 2800 out of 4000\n",
            "epoch 2900 out of 4000\n",
            "epoch 3000 out of 4000\n",
            "epoch 3100 out of 4000\n",
            "epoch 3200 out of 4000\n",
            "epoch 3300 out of 4000\n",
            "epoch 3400 out of 4000\n",
            "epoch 3500 out of 4000\n",
            "epoch 3600 out of 4000\n",
            "epoch 3700 out of 4000\n",
            "epoch 3800 out of 4000\n",
            "epoch 3900 out of 4000\n"
          ]
        }
      ]
    },
    {
      "cell_type": "markdown",
      "source": [
        "# Plot your training and validation loss by epoch\n"
      ],
      "metadata": {
        "id": "PyOLmrJ5lEob"
      }
    },
    {
      "cell_type": "code",
      "source": [
        "# Plotting\n",
        "plt.plot(per_epoch_loss_train, label = 'Training')\n",
        "plt.plot(per_epoch_loss_val, label = 'Validation')\n",
        "\n",
        "\n",
        "plt.xlabel('Epoch Number')\n",
        "plt.ylabel('Loss')\n",
        "plt.legend()\n",
        "plt.title('Training and Validation Loss Over Epochs')\n",
        "plt.show()"
      ],
      "metadata": {
        "id": "dB14Zd7imO1a",
        "colab": {
          "base_uri": "https://localhost:8080/",
          "height": 472
        },
        "outputId": "d61925b2-3783-47f4-e797-6a6b21ce15b0"
      },
      "execution_count": 65,
      "outputs": [
        {
          "output_type": "display_data",
          "data": {
            "text/plain": [
              "<Figure size 640x480 with 1 Axes>"
            ],
            "image/png": "[encoded data removed]"
          },
          "metadata": {}
        }
      ]
    },
    {
      "cell_type": "markdown",
      "source": [
        "# Quantify average reconstruction error & explain chosen hyperparameter values"
      ],
      "metadata": {
        "id": "8xVYT1TZlGBP"
      }
    },
    {
      "cell_type": "code",
      "source": [
        "reconstruction_error = np.mean(per_epoch_loss_val)\n",
        "reconstruction_error"
      ],
      "metadata": {
        "id": "PN9r01bkmPQA",
        "colab": {
          "base_uri": "https://localhost:8080/"
        },
        "outputId": "344c2193-6fc9-463d-e3c4-fd114dad9012"
      },
      "execution_count": 67,
      "outputs": [
        {
          "output_type": "execute_result",
          "data": {
            "text/plain": [
              "51.83725587705902"
            ]
          },
          "metadata": {},
          "execution_count": 67
        }
      ]
    },
    {
      "cell_type": "markdown",
      "source": [
        "Explaining chosen hyperparameter values:\n",
        "\n",
        "I tried several combinations of hyperparameters, adjusting the learning rate, batch size, and epochs. Overall, the final ones chosen were learning rate = 1e-5, batch size = 1000, and epochs = 4000. Any adjustment beyond these values did not affect the reconstruction error value much.\n"
      ],
      "metadata": {
        "id": "KOx1FUX5G4qZ"
      }
    }
  ]
}