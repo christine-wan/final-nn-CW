{
  "nbformat": 4,
  "nbformat_minor": 0,
  "metadata": {
    "colab": {
      "provenance": []
    },
    "kernelspec": {
      "name": "python3",
      "display_name": "Python 3"
    },
    "language_info": {
      "name": "python"
    }
  },
  "cells": [
    {
      "cell_type": "markdown",
      "source": [
        "# **Background**\n",
        "Transcription factors are proteins that bind DNA at promoters to drive gene expression. Most preferentially bind to specific sequences while ignoring others. Traditional methods to determine these sequences (called motifs) have assumed that binding sites in the genome are all independent. However, in some cases people have identified motifs where positional interdependencies exist.\n",
        "\n",
        "# **Task:**\n",
        "Implement a multi-layer fully connected neural network using your NeuralNetwork class to predict whether a short DNA sequence is a binding site for the yeast transcription factor Rap1. The training data is incredibly imbalanced, with way fewer positive sequences than negative sequences, so you will implement a sampling scheme to ensure that class imbalance does not affect training."
      ],
      "metadata": {
        "id": "mgBM2zwP6sqA"
      }
    },
    {
      "cell_type": "code",
      "source": [
        "# uploading nn.py\n",
        "\n",
        "from google.colab import files\n",
        "uploaded = files.upload()"
      ],
      "metadata": {
        "colab": {
          "base_uri": "https://localhost:8080/",
          "height": 109
        },
        "id": "ZlChGuAhJJpV",
        "outputId": "cc2483df-0153-4f2b-df38-263acf8987fd"
      },
      "execution_count": 44,
      "outputs": [
        {
          "output_type": "display_data",
          "data": {
            "text/plain": [
              "<IPython.core.display.HTML object>"
            ],
            "text/html": [
              "\n",
              "     <input type=\"file\" id=\"files-d5cdffe1-99c3-4deb-8aa1-dfa81830691d\" name=\"files[]\" multiple disabled\n",
              "        style=\"border:none\" />\n",
              "     <output id=\"result-d5cdffe1-99c3-4deb-8aa1-dfa81830691d\">\n",
              "      Upload widget is only available when the cell has been executed in the\n",
              "      current browser session. Please rerun this cell to enable.\n",
              "      </output>\n",
              "      <script>// Copyright 2017 Google LLC\n",
              "//\n",
              "// Licensed under the Apache License, Version 2.0 (the \"License\");\n",
              "// you may not use this file except in compliance with the License.\n",
              "// You may obtain a copy of the License at\n",
              "//\n",
              "//      http://www.apache.org/licenses/LICENSE-2.0\n",
              "//\n",
              "// Unless required by applicable law or agreed to in writing, software\n",
              "// distributed under the License is distributed on an \"AS IS\" BASIS,\n",
              "// WITHOUT WARRANTIES OR CONDITIONS OF ANY KIND, either express or implied.\n",
              "// See the License for the specific language governing permissions and\n",
              "// limitations under the License.\n",
              "\n",
              "/**\n",
              " * @fileoverview Helpers for google.colab Python module.\n",
              " */\n",
              "(function(scope) {\n",
              "function span(text, styleAttributes = {}) {\n",
              "  const element = document.createElement('span');\n",
              "  element.textContent = text;\n",
              "  for (const key of Object.keys(styleAttributes)) {\n",
              "    element.style[key] = styleAttributes[key];\n",
              "  }\n",
              "  return element;\n",
              "}\n",
              "\n",
              "// Max number of bytes which will be uploaded at a time.\n",
              "const MAX_PAYLOAD_SIZE = 100 * 1024;\n",
              "\n",
              "function _uploadFiles(inputId, outputId) {\n",
              "  const steps = uploadFilesStep(inputId, outputId);\n",
              "  const outputElement = document.getElementById(outputId);\n",
              "  // Cache steps on the outputElement to make it available for the next call\n",
              "  // to uploadFilesContinue from Python.\n",
              "  outputElement.steps = steps;\n",
              "\n",
              "  return _uploadFilesContinue(outputId);\n",
              "}\n",
              "\n",
              "// This is roughly an async generator (not supported in the browser yet),\n",
              "// where there are multiple asynchronous steps and the Python side is going\n",
              "// to poll for completion of each step.\n",
              "// This uses a Promise to block the python side on completion of each step,\n",
              "// then passes the result of the previous step as the input to the next step.\n",
              "function _uploadFilesContinue(outputId) {\n",
              "  const outputElement = document.getElementById(outputId);\n",
              "  const steps = outputElement.steps;\n",
              "\n",
              "  const next = steps.next(outputElement.lastPromiseValue);\n",
              "  return Promise.resolve(next.value.promise).then((value) => {\n",
              "    // Cache the last promise value to make it available to the next\n",
              "    // step of the generator.\n",
              "    outputElement.lastPromiseValue = value;\n",
              "    return next.value.response;\n",
              "  });\n",
              "}\n",
              "\n",
              "/**\n",
              " * Generator function which is called between each async step of the upload\n",
              " * process.\n",
              " * @param {string} inputId Element ID of the input file picker element.\n",
              " * @param {string} outputId Element ID of the output display.\n",
              " * @return {!Iterable<!Object>} Iterable of next steps.\n",
              " */\n",
              "function* uploadFilesStep(inputId, outputId) {\n",
              "  const inputElement = document.getElementById(inputId);\n",
              "  inputElement.disabled = false;\n",
              "\n",
              "  const outputElement = document.getElementById(outputId);\n",
              "  outputElement.innerHTML = '';\n",
              "\n",
              "  const pickedPromise = new Promise((resolve) => {\n",
              "    inputElement.addEventListener('change', (e) => {\n",
              "      resolve(e.target.files);\n",
              "    });\n",
              "  });\n",
              "\n",
              "  const cancel = document.createElement('button');\n",
              "  inputElement.parentElement.appendChild(cancel);\n",
              "  cancel.textContent = 'Cancel upload';\n",
              "  const cancelPromise = new Promise((resolve) => {\n",
              "    cancel.onclick = () => {\n",
              "      resolve(null);\n",
              "    };\n",
              "  });\n",
              "\n",
              "  // Wait for the user to pick the files.\n",
              "  const files = yield {\n",
              "    promise: Promise.race([pickedPromise, cancelPromise]),\n",
              "    response: {\n",
              "      action: 'starting',\n",
              "    }\n",
              "  };\n",
              "\n",
              "  cancel.remove();\n",
              "\n",
              "  // Disable the input element since further picks are not allowed.\n",
              "  inputElement.disabled = true;\n",
              "\n",
              "  if (!files) {\n",
              "    return {\n",
              "      response: {\n",
              "        action: 'complete',\n",
              "      }\n",
              "    };\n",
              "  }\n",
              "\n",
              "  for (const file of files) {\n",
              "    const li = document.createElement('li');\n",
              "    li.append(span(file.name, {fontWeight: 'bold'}));\n",
              "    li.append(span(\n",
              "        `(${file.type || 'n/a'}) - ${file.size} bytes, ` +\n",
              "        `last modified: ${\n",
              "            file.lastModifiedDate ? file.lastModifiedDate.toLocaleDateString() :\n",
              "                                    'n/a'} - `));\n",
              "    const percent = span('0% done');\n",
              "    li.appendChild(percent);\n",
              "\n",
              "    outputElement.appendChild(li);\n",
              "\n",
              "    const fileDataPromise = new Promise((resolve) => {\n",
              "      const reader = new FileReader();\n",
              "      reader.onload = (e) => {\n",
              "        resolve(e.target.result);\n",
              "      };\n",
              "      reader.readAsArrayBuffer(file);\n",
              "    });\n",
              "    // Wait for the data to be ready.\n",
              "    let fileData = yield {\n",
              "      promise: fileDataPromise,\n",
              "      response: {\n",
              "        action: 'continue',\n",
              "      }\n",
              "    };\n",
              "\n",
              "    // Use a chunked sending to avoid message size limits. See b/62115660.\n",
              "    let position = 0;\n",
              "    do {\n",
              "      const length = Math.min(fileData.byteLength - position, MAX_PAYLOAD_SIZE);\n",
              "      const chunk = new Uint8Array(fileData, position, length);\n",
              "      position += length;\n",
              "\n",
              "      const base64 = btoa(String.fromCharCode.apply(null, chunk));\n",
              "      yield {\n",
              "        response: {\n",
              "          action: 'append',\n",
              "          file: file.name,\n",
              "          data: base64,\n",
              "        },\n",
              "      };\n",
              "\n",
              "      let percentDone = fileData.byteLength === 0 ?\n",
              "          100 :\n",
              "          Math.round((position / fileData.byteLength) * 100);\n",
              "      percent.textContent = `${percentDone}% done`;\n",
              "\n",
              "    } while (position < fileData.byteLength);\n",
              "  }\n",
              "\n",
              "  // All done.\n",
              "  yield {\n",
              "    response: {\n",
              "      action: 'complete',\n",
              "    }\n",
              "  };\n",
              "}\n",
              "\n",
              "scope.google = scope.google || {};\n",
              "scope.google.colab = scope.google.colab || {};\n",
              "scope.google.colab._files = {\n",
              "  _uploadFiles,\n",
              "  _uploadFilesContinue,\n",
              "};\n",
              "})(self);\n",
              "</script> "
            ]
          },
          "metadata": {}
        },
        {
          "output_type": "stream",
          "name": "stdout",
          "text": [
            "Saving nn1.py to nn1.py\n",
            "Saving preprocess.py to preprocess.py\n"
          ]
        }
      ]
    },
    {
      "cell_type": "code",
      "execution_count": 90,
      "metadata": {
        "id": "mrgA_hX_e-5v"
      },
      "outputs": [],
      "source": [
        "# Imports\n",
        "import numpy as np\n",
        "import random\n",
        "from sklearn.model_selection import train_test_split\n",
        "import matplotlib.pyplot as plt\n",
        "from nn import NeuralNetwork\n",
        "from my_io import read_text_file, read_fasta_file\n",
        "from preprocess import one_hot_encode_seqs, sample_seqs\n",
        "from sklearn.metrics import accuracy_score"
      ]
    },
    {
      "cell_type": "markdown",
      "source": [
        "Use the read_text_file function from io.py to read in the 137 positive Rap1 motif examples"
      ],
      "metadata": {
        "id": "vWO7AsUs7PO2"
      }
    },
    {
      "cell_type": "code",
      "source": [
        "positive_seqs = read_text_file('rap1-lieb-positives.txt')"
      ],
      "metadata": {
        "id": "JE4yBS-N6sao"
      },
      "execution_count": 40,
      "outputs": []
    },
    {
      "cell_type": "markdown",
      "source": [
        "Use the read_fasta_file function from io.py to read in all the negative examples (Note that these sequences are much longer than the positive sequences, so you will need to process them to the same length)\n"
      ],
      "metadata": {
        "id": "WtZ_5T377nDd"
      }
    },
    {
      "cell_type": "code",
      "source": [
        "negative_seqs = read_fasta_file('yeast-upstream-1k-negative.fa')"
      ],
      "metadata": {
        "id": "yfWmImiU7_g5"
      },
      "execution_count": 41,
      "outputs": []
    },
    {
      "cell_type": "markdown",
      "source": [
        "Sampling Scheme (see comments within code as well):\n",
        "\n",
        "1. Balance your classes using sample_seq function\n",
        "\n",
        "2. One-hot encode the data using your one_hot_encode_seqs function\n",
        "\n",
        "3. Split the data into training and validation sets\n"
      ],
      "metadata": {
        "id": "DZwVHMHN7oE0"
      }
    },
    {
      "cell_type": "code",
      "source": [
        "# Step 1: Ensure both positive and negative sequences are of the same length\n",
        "min_seq_length = min(len(seq) for seq in positive_seqs)  # Get the shortest sequence length\n",
        "negative_seqs_trunc = [seq[:min_seq_length] for seq in negative_seqs]  # Truncate negative sequences\n",
        "\n",
        "# Step 2: Combine positive and negative sequences\n",
        "combined_seqs = positive_seqs + negative_seqs_trunc\n",
        "\n",
        "# Step 3: Create labels for sequences (1 for positive, 0 for negative)\n",
        "combined_labels = [1] * len(positive_seqs) + [0] * len(negative_seqs_trunc)\n",
        "\n",
        "# Step 4: Shuffle the dataset to randomize the order\n",
        "shuffled_indices = list(range(len(combined_seqs)))\n",
        "random.shuffle(shuffled_indices)\n",
        "\n",
        "# Shuffle both sequences and labels\n",
        "shuffled_seqs = [combined_seqs[i] for i in shuffled_indices]\n",
        "shuffled_labels = [combined_labels[i] for i in shuffled_indices]\n",
        "\n",
        "# Step 5: Balance the dataset by sampling (oversampling the minority class)\n",
        "sampled_seqs, sampled_labels = sample_seqs(shuffled_seqs, shuffled_labels, seed=8)\n",
        "\n",
        "# Step 6: One-hot encode the sequences\n",
        "encoded_seqs = one_hot_encode_seqs(sampled_seqs)\n",
        "\n",
        "#  Reshape encoded_seqs to match the number of samples in sampled_labels\n",
        "encoded_seqs = encoded_seqs.reshape(len(sampled_labels), -1) # Reshape encoded_seqs to have the correct number of samples (rows)\n",
        "\n",
        "# Step 7: Split the dataset into training and validation sets (80/20 split)\n",
        "X_train, X_val, y_train, y_val = train_test_split(encoded_seqs, sampled_labels, test_size=0.2, random_state=88)\n",
        "\n",
        "# Step 8: Convert to numpy arrays for use in the model\n",
        "X_train = np.array(X_train)\n",
        "X_val = np.array(X_val)\n",
        "y_train = np.array(y_train)\n",
        "y_val = np.array(y_val)"
      ],
      "metadata": {
        "id": "hK6MuJnPhWjW"
      },
      "execution_count": 93,
      "outputs": []
    },
    {
      "cell_type": "code",
      "source": [
        "print(X_train.shape)\n",
        "print(y_train.shape)"
      ],
      "metadata": {
        "colab": {
          "base_uri": "https://localhost:8080/"
        },
        "id": "0W3wSG4e8BG0",
        "outputId": "1909c18c-237e-4b18-e6c6-aace85daed2d"
      },
      "execution_count": 94,
      "outputs": [
        {
          "output_type": "stream",
          "name": "stdout",
          "text": [
            "(5060, 68)\n",
            "(5060,)\n"
          ]
        }
      ]
    },
    {
      "cell_type": "markdown",
      "source": [
        "Generate an instance of your NeuralNetwork class with an appropriate architecture"
      ],
      "metadata": {
        "id": "e2nT6Fan7yJY"
      }
    },
    {
      "cell_type": "code",
      "source": [
        "nn_architecture = [\n",
        "    {'input_dim': 68, 'output_dim': 34, 'activation': 'sigmoid'},  # Input -> Hidden layer (68 -> 34)\n",
        "    {'input_dim': 34, 'output_dim': 17, 'activation': 'sigmoid'}, # Hidden -> Hidden layer (34 -> 17)\n",
        "    {'input_dim': 17, 'output_dim': 1, 'activation': 'sigmoid'}   # Hidden -> Output layer (17 -> 1)\n",
        "]\n",
        "\n",
        "learning_rate = 1e-2\n",
        "random_seed = 8\n",
        "batch_size = 100\n",
        "epochs = 1000\n",
        "loss_function = 'binary_cross_entropy'\n",
        "\n",
        "network = NeuralNetwork(nn_architecture, learning_rate, random_seed, batch_size, epochs, loss_function)"
      ],
      "metadata": {
        "id": "_6D_yDiQ8EUi"
      },
      "execution_count": 106,
      "outputs": []
    },
    {
      "cell_type": "markdown",
      "source": [
        "Train your neural network on the training data"
      ],
      "metadata": {
        "id": "KLqqGmGK70Dv"
      }
    },
    {
      "cell_type": "code",
      "source": [
        "per_epoch_loss_train, per_epoch_loss_val = network.fit(np.array(X_train), np.array(y_train), np.array(X_val), np.array(y_val))"
      ],
      "metadata": {
        "id": "uGEVaYbd8FVB"
      },
      "execution_count": 107,
      "outputs": []
    },
    {
      "cell_type": "markdown",
      "source": [
        "Plot your training and validation loss by epoch"
      ],
      "metadata": {
        "id": "7Vyhwa8k71v5"
      }
    },
    {
      "cell_type": "code",
      "source": [
        "# Plotting\n",
        "plt.plot(per_epoch_loss_train, label = 'Training')\n",
        "plt.plot(per_epoch_loss_val, label = 'Validation')\n",
        "\n",
        "\n",
        "plt.xlabel('Epoch Number')\n",
        "plt.ylabel('Loss')\n",
        "plt.legend()\n",
        "plt.title('Training and Validation Loss Over Epochs')\n",
        "plt.show()"
      ],
      "metadata": {
        "colab": {
          "base_uri": "https://localhost:8080/",
          "height": 472
        },
        "id": "aJ7QQ_Vf8GPq",
        "outputId": "cb60c610-edc0-42a9-fb1d-8ef60d18700d"
      },
      "execution_count": 108,
      "outputs": [
        {
          "output_type": "display_data",
          "data": {
            "text/plain": [
              "<Figure size 640x480 with 1 Axes>"
            ],
            "image/png": "[encoded data removed]"
          },
          "metadata": {}
        }
      ]
    },
    {
      "cell_type": "markdown",
      "source": [
        "Report the accuracy of your classifier on your validation dataset"
      ],
      "metadata": {
        "id": "C_I22ybD73EX"
      }
    },
    {
      "cell_type": "code",
      "source": [
        "# Step 1: Predict outputs for the validation set\n",
        "predictions = network.predict(X_val)  # Use your trained model's `predict` method\n",
        "\n",
        "# Step 2: Round the predictions (if they are probabilities, you can round to get binary output)\n",
        "predicted_labels = np.round(predictions)\n",
        "\n",
        "# Step 3: Compare predicted labels with actual labels and calculate accuracy\n",
        "accuracy = np.sum(predicted_labels == y_val) / len(y_val)  # Percentage of correct predictions\n",
        "\n",
        "# Step 4: Print accuracy as a percentage (multiply by 100)\n",
        "print(f'Validation accuracy: {accuracy*100:.2f}%')"
      ],
      "metadata": {
        "colab": {
          "base_uri": "https://localhost:8080/"
        },
        "id": "BapoWoVe8HOc",
        "outputId": "09bac5ca-b549-48a9-85a8-e86b23dd611a"
      },
      "execution_count": 109,
      "outputs": [
        {
          "output_type": "stream",
          "name": "stdout",
          "text": [
            "Validation accuracy: 99.84%\n"
          ]
        }
      ]
    },
    {
      "cell_type": "markdown",
      "source": [
        "Explain your choice of loss function and hyperparameters:\n",
        "\n",
        "Accuracy is approximately 99.84%.\n",
        "For the loss function, binary cross entropy was chosen as it is typically used for binary classification, similar to what we are doing here. Multiple layers were considered, as well as different activations. Parameters were chosen such to end with 1 dimension (classification) and to optimize accuracy.  "
      ],
      "metadata": {
        "id": "KUTkZ_mQ74mt"
      }
    }
  ]
}